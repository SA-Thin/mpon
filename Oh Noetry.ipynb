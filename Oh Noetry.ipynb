{
 "cells": [
  {
   "cell_type": "code",
   "execution_count": 2,
   "metadata": {},
   "outputs": [],
   "source": [
    "import random as r\n",
    "from textblob import TextBlob\n",
    "import pronouncing as p\n",
    "\n",
    "with open('words.txt', 'r') as file:\n",
    "    text = file.read()\n",
    "    \n",
    "blob = TextBlob(text)\n",
    "\n",
    "textList = blob.words\n",
    "\n",
    "ingList = []\n",
    "\n",
    "for i in textList:\n",
    "    if i.endswith(\"ing\"):\n",
    "        ingList.append(i.lower())\n",
    "\n",
    "adjectives = []\n",
    "nouns = []\n",
    "conjunction = []\n",
    "preposition = []\n",
    "\n",
    "for word, pos in blob.tags:\n",
    "    if (pos == 'JJ'):\n",
    "        adjectives.append(word)\n",
    "    if (pos == 'NN'):\n",
    "        nouns.append(word)\n",
    "    if (pos == 'CC'):\n",
    "        conjunction.append(word)\n",
    "    if (pos == 'IN'):\n",
    "        preposition.append(word)"
   ]
  },
  {
   "cell_type": "code",
   "execution_count": 20,
   "metadata": {},
   "outputs": [
    {
     "name": "stdout",
     "output_type": "stream",
     "text": [
      "Armor of stepping\n",
      "Silver study \n",
      "\n",
      "Head of ming\n",
      "Silver cruddy \n",
      "\n",
      "Custom in smashing\n",
      "Safe and bottle\n",
      "Eventual and hottel\n"
     ]
    }
   ],
   "source": [
    "for i in range(1):\n",
    "    n = r.choice(nouns)\n",
    "    print(n.capitalize(), \"of\", r.choice(ingList))\n",
    "    \n",
    "for i in range(1):\n",
    "    a = r.choice(adjectives)\n",
    "    n1 = r.choice(nouns)\n",
    "    print(a.capitalize(), n1, \"\\n\")\n",
    "    \n",
    "for i in range(1):\n",
    "    n = r.choice(nouns)\n",
    "    print(n.capitalize(), \"of\", r.choice(ingList))\n",
    "    \n",
    "for i in range(1):\n",
    "    a = r.choice(adjectives)\n",
    "    n2 = r.choice(p.rhymes(n1))\n",
    "    print(a.capitalize(), n2, \"\\n\")\n",
    "    \n",
    "for i in range(1):\n",
    "    n = r.choice(nouns)\n",
    "    print(n.capitalize(), \"in\", r.choice(ingList))\n",
    "    \n",
    "for i in range(1):\n",
    "    a = r.choice(adjectives)\n",
    "    c = r.choice(conjunction)\n",
    "    n3 = r.choice(nouns)\n",
    "    print(a.capitalize(), c, n3)\n",
    "    \n",
    "for i in range(1):\n",
    "    a = r.choice(adjectives)\n",
    "    c = r.choice(conjunction)\n",
    "    n4 = r.choice(p.rhymes(n3))\n",
    "    print(a.capitalize(), c, n4)"
   ]
  },
  {
   "cell_type": "code",
   "execution_count": 33,
   "metadata": {},
   "outputs": [
    {
     "name": "stdout",
     "output_type": "stream",
     "text": [
      "Packet of knowing\n",
      "Late exhibit \n",
      "\n",
      "Broadsword of stepping\n",
      "Bible tribbett \n",
      "\n",
      "Shop in dividing\n",
      "New and museum\n",
      "Desperate and mausoleum\n"
     ]
    }
   ],
   "source": [
    "for i in range(1):\n",
    "    n = r.choice(nouns)\n",
    "    print(n.capitalize(), \"of\", r.choice(ingList))\n",
    "    \n",
    "for i in range(1):\n",
    "    a = r.choice(adjectives)\n",
    "    n1 = r.choice(nouns)\n",
    "    print(a.capitalize(), n1, \"\\n\")\n",
    "    \n",
    "for i in range(1):\n",
    "    n = r.choice(nouns)\n",
    "    print(n.capitalize(), \"of\", r.choice(ingList))\n",
    "    \n",
    "for i in range(1):\n",
    "    a = r.choice(adjectives)\n",
    "    n2 = r.choice(p.rhymes(n1))\n",
    "    print(a.capitalize(), n2, \"\\n\")\n",
    "    \n",
    "for i in range(1):\n",
    "    n = r.choice(nouns)\n",
    "    print(n.capitalize(), \"in\", r.choice(ingList))\n",
    "    \n",
    "for i in range(1):\n",
    "    a = r.choice(adjectives)\n",
    "    c = r.choice(conjunction)\n",
    "    n3 = r.choice(nouns)\n",
    "    print(a.capitalize(), c, n3)\n",
    "    \n",
    "for i in range(1):\n",
    "    a = r.choice(adjectives)\n",
    "    c = r.choice(conjunction)\n",
    "    n4 = r.choice(p.rhymes(n3))\n",
    "    print(a.capitalize(), c, n4)"
   ]
  },
  {
   "cell_type": "code",
   "execution_count": null,
   "metadata": {},
   "outputs": [],
   "source": []
  }
 ],
 "metadata": {
  "kernelspec": {
   "display_name": "Python 3",
   "language": "python",
   "name": "python3"
  },
  "language_info": {
   "codemirror_mode": {
    "name": "ipython",
    "version": 3
   },
   "file_extension": ".py",
   "mimetype": "text/x-python",
   "name": "python",
   "nbconvert_exporter": "python",
   "pygments_lexer": "ipython3",
   "version": "3.6.5"
  }
 },
 "nbformat": 4,
 "nbformat_minor": 2
}
